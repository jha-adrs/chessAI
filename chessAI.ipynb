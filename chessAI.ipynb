{
 "cells": [
  {
   "cell_type": "code",
   "execution_count": 1,
   "metadata": {},
   "outputs": [
    {
     "name": "stdout",
     "output_type": "stream",
     "text": [
      "/bin/bash: /home/platinumj/miniconda3/envs/tf/lib/libtinfo.so.6: no version information available (required by /bin/bash)\n",
      "Requirement already satisfied: python-chess in /home/platinumj/miniconda3/envs/tf/lib/python3.9/site-packages (1.999)\n",
      "Requirement already satisfied: chess<2,>=1 in /home/platinumj/miniconda3/envs/tf/lib/python3.9/site-packages (from python-chess) (1.9.4)\n",
      "Note: you may need to restart the kernel to use updated packages.\n"
     ]
    }
   ],
   "source": [
    "\n",
    "%pip install python-chess\n",
    "import chess\n",
    "import numpy as np\n",
    "\n",
    "def one_hot_encode_piece(piece):\n",
    "    pieces = list('rnbqkpRNBQKP.')\n",
    "    arr = np.zeros(len(pieces))\n",
    "    piece_to_index = {p: i for i, p in enumerate(pieces)}\n",
    "    index = piece_to_index[piece]\n",
    "    arr[index] = 1\n",
    "    return arr\n",
    "\n",
    "def encode_board(board):\n",
    "    board_str = str(board)\n",
    "    board_str = board_str.replace(' ', '')\n",
    "    board_list = []\n",
    "    for row in board_str.split('\\n'):\n",
    "        row_list = []\n",
    "        for piece in row:\n",
    "            row_list.append(one_hot_encode_piece(piece))\n",
    "        board_list.append(row_list)\n",
    "    return np.array(board_list)\n",
    "\n",
    "\n"
   ]
  },
  {
   "cell_type": "code",
   "execution_count": 4,
   "metadata": {},
   "outputs": [],
   "source": [
    "\n",
    "import pandas as pd\n",
    "\n",
    "train_df = pd.read_csv('train.csv', index_col='id')\n"
   ]
  },
  {
   "cell_type": "code",
   "execution_count": 5,
   "metadata": {},
   "outputs": [],
   "source": [
    "\n",
    "\n",
    "def count_material(fen):\n",
    "    total_material = 0\n",
    "    material_dict = {\n",
    "        'p': 1,\n",
    "        'b': 3,\n",
    "        'n': 3,\n",
    "        'r': 5,\n",
    "        'q': 9\n",
    "    }\n",
    "    for char in fen.lower():\n",
    "        if char in material_dict:\n",
    "            total_material += material_dict[char]\n",
    "            \n",
    "    return total_material\n",
    "\n",
    "train_df['total_material'] = train_df['board'].apply(count_material)"
   ]
  },
  {
   "cell_type": "code",
   "execution_count": 6,
   "metadata": {},
   "outputs": [],
   "source": [
    "\n",
    "endgame_df = train_df[train_df['total_material'] < 30]\n",
    "midgame_df = train_df[(30 <= train_df['total_material']) & (train_df['total_material'] <= 60)]\n",
    "opening_df = train_df[60 < train_df['total_material']]"
   ]
  },
  {
   "cell_type": "code",
   "execution_count": 7,
   "metadata": {},
   "outputs": [],
   "source": [
    "import numpy as np\n",
    "def encode_fen_string(fen_str):\n",
    "    board = chess.Board(fen = fen_str)\n",
    "    return encode_board(board)"
   ]
  },
  {
   "cell_type": "code",
   "execution_count": 30,
   "metadata": {},
   "outputs": [],
   "source": [
    "\n",
    "from tensorflow.keras.models import Sequential\n",
    "from tensorflow.keras.layers import Dense, Flatten, Dropout\n",
    "\n",
    "def generate_model(data_to_train_on):\n",
    "    val_df = data_to_train_on[-1000:]\n",
    "    train_df = data_to_train_on[:-1000]\n",
    "    \n",
    "    X_train = np.stack(train_df['board'].apply(encode_fen_string))\n",
    "    y_train = train_df['black_score']\n",
    "\n",
    "    X_val = np.stack(val_df['board'].apply(encode_fen_string))\n",
    "    y_val = val_df['black_score']\n",
    "    \n",
    "    model = Sequential([\n",
    "        Flatten(),\n",
    "        Dense(512, activation='relu'),\n",
    "        Dropout(0.2),\n",
    "        Dense(128, activation='relu'),\n",
    "        Dropout(0.2),\n",
    "        Dense(1),\n",
    "    ])\n",
    "    \n",
    "    model.compile(\n",
    "        optimizer='adam',\n",
    "        loss='mean_squared_error')\n",
    "\n",
    "    history = model.fit(\n",
    "        X_train,\n",
    "        y_train,\n",
    "        epochs=40,\n",
    "        validation_data=(X_val, y_val))\n",
    "\n",
    "    import matplotlib.pyplot as plt\n",
    "\n",
    "    plt.style.use('ggplot')\n",
    "    plt.plot(history.history['loss'], label='train loss')\n",
    "    plt.plot(history.history['val_loss'], label='val loss')\n",
    "    plt.legend()\n",
    "    plt.title('Loss During Training')\n",
    "    plt.show()\n",
    "    \n",
    "    return model"
   ]
  },
  {
   "cell_type": "code",
   "execution_count": 31,
   "metadata": {},
   "outputs": [
    {
     "name": "stdout",
     "output_type": "stream",
     "text": [
      "Epoch 1/40\n",
      "755/755 [==============================] - 9s 10ms/step - loss: 141749.3750 - val_loss: 108273.9844\n",
      "Epoch 2/40\n",
      "755/755 [==============================] - 8s 10ms/step - loss: 114326.2344 - val_loss: 100713.4922\n",
      "Epoch 3/40\n",
      "755/755 [==============================] - 5s 7ms/step - loss: 103839.6797 - val_loss: 91383.5312\n",
      "Epoch 4/40\n",
      "755/755 [==============================] - 5s 7ms/step - loss: 93767.3984 - val_loss: 83988.2969\n",
      "Epoch 5/40\n",
      "755/755 [==============================] - 5s 6ms/step - loss: 84118.5859 - val_loss: 75656.3438\n",
      "Epoch 6/40\n",
      "755/755 [==============================] - 5s 6ms/step - loss: 75953.7266 - val_loss: 68459.2109\n",
      "Epoch 7/40\n",
      "755/755 [==============================] - 5s 6ms/step - loss: 68883.7109 - val_loss: 60628.4844\n",
      "Epoch 8/40\n",
      "755/755 [==============================] - 5s 6ms/step - loss: 63259.7539 - val_loss: 58670.7031\n",
      "Epoch 9/40\n",
      "755/755 [==============================] - 5s 6ms/step - loss: 59253.8750 - val_loss: 53837.7539\n",
      "Epoch 10/40\n",
      "755/755 [==============================] - 5s 6ms/step - loss: 55423.9219 - val_loss: 53438.8750\n",
      "Epoch 11/40\n",
      "755/755 [==============================] - 5s 6ms/step - loss: 52536.9219 - val_loss: 50136.7617\n",
      "Epoch 12/40\n",
      "755/755 [==============================] - 5s 6ms/step - loss: 49531.3945 - val_loss: 47894.5742\n",
      "Epoch 13/40\n",
      "755/755 [==============================] - 5s 6ms/step - loss: 46890.9336 - val_loss: 47308.8906\n",
      "Epoch 14/40\n",
      "755/755 [==============================] - 5s 6ms/step - loss: 44504.1445 - val_loss: 47810.7266\n",
      "Epoch 15/40\n",
      "755/755 [==============================] - 5s 6ms/step - loss: 42709.9414 - val_loss: 54427.4844\n",
      "Epoch 16/40\n",
      "755/755 [==============================] - 5s 7ms/step - loss: 41029.0508 - val_loss: 42495.5039\n",
      "Epoch 17/40\n",
      "755/755 [==============================] - 5s 6ms/step - loss: 39074.5977 - val_loss: 43428.0312\n",
      "Epoch 18/40\n",
      "755/755 [==============================] - 5s 6ms/step - loss: 37766.2148 - val_loss: 40636.2422\n",
      "Epoch 19/40\n",
      "755/755 [==============================] - 5s 6ms/step - loss: 36014.7461 - val_loss: 40690.3203\n",
      "Epoch 20/40\n",
      "755/755 [==============================] - 5s 6ms/step - loss: 33721.6602 - val_loss: 41570.9141\n",
      "Epoch 21/40\n",
      "755/755 [==============================] - 5s 7ms/step - loss: 32578.6758 - val_loss: 42876.9297\n",
      "Epoch 22/40\n",
      "755/755 [==============================] - 5s 7ms/step - loss: 32214.9883 - val_loss: 39044.6055\n",
      "Epoch 23/40\n",
      "755/755 [==============================] - 5s 7ms/step - loss: 30658.6367 - val_loss: 38587.3398\n",
      "Epoch 24/40\n",
      "755/755 [==============================] - 5s 7ms/step - loss: 30332.9082 - val_loss: 39741.6094\n",
      "Epoch 25/40\n",
      "755/755 [==============================] - 6s 8ms/step - loss: 27960.1465 - val_loss: 41092.2305\n",
      "Epoch 26/40\n",
      "755/755 [==============================] - 6s 8ms/step - loss: 27330.0000 - val_loss: 37998.0625\n",
      "Epoch 27/40\n",
      "755/755 [==============================] - 8s 10ms/step - loss: 25768.6230 - val_loss: 39484.3750\n",
      "Epoch 28/40\n",
      "755/755 [==============================] - 9s 12ms/step - loss: 24643.5371 - val_loss: 37777.0977\n",
      "Epoch 29/40\n",
      "755/755 [==============================] - 10s 13ms/step - loss: 25015.2617 - val_loss: 39901.6953\n",
      "Epoch 30/40\n",
      "755/755 [==============================] - 10s 13ms/step - loss: 23858.3516 - val_loss: 37838.2266\n",
      "Epoch 31/40\n",
      "755/755 [==============================] - 7s 10ms/step - loss: 24275.0977 - val_loss: 38203.5391\n",
      "Epoch 32/40\n",
      "755/755 [==============================] - 6s 7ms/step - loss: 21428.6680 - val_loss: 38509.5078\n",
      "Epoch 33/40\n",
      "755/755 [==============================] - 5s 7ms/step - loss: 20963.5801 - val_loss: 38818.6719\n",
      "Epoch 34/40\n",
      "755/755 [==============================] - 5s 6ms/step - loss: 20554.1758 - val_loss: 45465.6055\n",
      "Epoch 35/40\n",
      "755/755 [==============================] - 5s 7ms/step - loss: 19653.0078 - val_loss: 38472.4336\n",
      "Epoch 36/40\n",
      "755/755 [==============================] - 5s 6ms/step - loss: 19538.3086 - val_loss: 43119.3906\n",
      "Epoch 37/40\n",
      "755/755 [==============================] - 5s 6ms/step - loss: 19742.6895 - val_loss: 40895.2109\n",
      "Epoch 38/40\n",
      "755/755 [==============================] - 5s 6ms/step - loss: 18499.7109 - val_loss: 38707.9375\n",
      "Epoch 39/40\n",
      "755/755 [==============================] - 5s 6ms/step - loss: 17849.4258 - val_loss: 38161.3945\n",
      "Epoch 40/40\n",
      "755/755 [==============================] - 5s 6ms/step - loss: 17476.5625 - val_loss: 37117.4297\n"
     ]
    },
    {
     "data": {
      "image/png": "[encoded data removed]",
      "text/plain": [
       "<Figure size 640x480 with 1 Axes>"
      ]
     },
     "metadata": {},
     "output_type": "display_data"
    }
   ],
   "source": [
    "endgame_model = generate_model(endgame_df)"
   ]
  },
  {
   "cell_type": "code",
   "execution_count": 24,
   "metadata": {},
   "outputs": [
    {
     "name": "stdout",
     "output_type": "stream",
     "text": [
      "Epoch 1/40\n",
      "485/485 [==============================] - 4s 6ms/step - loss: 161666.3281 - val_loss: 153167.0312\n",
      "Epoch 2/40\n",
      "485/485 [==============================] - 3s 7ms/step - loss: 147513.0000 - val_loss: 144987.8438\n",
      "Epoch 3/40\n",
      "485/485 [==============================] - 3s 6ms/step - loss: 138310.4688 - val_loss: 136252.4531\n",
      "Epoch 4/40\n",
      "485/485 [==============================] - 3s 7ms/step - loss: 129743.0391 - val_loss: 129042.8750\n",
      "Epoch 5/40\n",
      "485/485 [==============================] - 3s 5ms/step - loss: 122011.2969 - val_loss: 121783.0703\n",
      "Epoch 6/40\n",
      "485/485 [==============================] - 3s 6ms/step - loss: 115840.2031 - val_loss: 117737.8047\n",
      "Epoch 7/40\n",
      "485/485 [==============================] - 3s 7ms/step - loss: 110783.6484 - val_loss: 112583.4453\n",
      "Epoch 8/40\n",
      "485/485 [==============================] - 3s 7ms/step - loss: 106378.4453 - val_loss: 109018.7734\n",
      "Epoch 9/40\n",
      "485/485 [==============================] - 3s 6ms/step - loss: 103288.9922 - val_loss: 107750.7812\n",
      "Epoch 10/40\n",
      "485/485 [==============================] - 3s 5ms/step - loss: 100494.1641 - val_loss: 105392.1484\n",
      "Epoch 11/40\n",
      "485/485 [==============================] - 3s 7ms/step - loss: 98243.7109 - val_loss: 104734.7969\n",
      "Epoch 12/40\n",
      "485/485 [==============================] - 2s 5ms/step - loss: 96660.7422 - val_loss: 99817.3750\n",
      "Epoch 13/40\n",
      "485/485 [==============================] - 3s 7ms/step - loss: 94854.7422 - val_loss: 99088.2188\n",
      "Epoch 14/40\n",
      "485/485 [==============================] - 3s 6ms/step - loss: 93305.0078 - val_loss: 99408.4688\n",
      "Epoch 15/40\n",
      "485/485 [==============================] - 2s 5ms/step - loss: 91847.1562 - val_loss: 97399.2344\n",
      "Epoch 16/40\n",
      "485/485 [==============================] - 3s 6ms/step - loss: 90396.3203 - val_loss: 100636.0938\n",
      "Epoch 17/40\n",
      "485/485 [==============================] - 3s 5ms/step - loss: 89238.5000 - val_loss: 94865.2422\n",
      "Epoch 18/40\n",
      "485/485 [==============================] - 3s 5ms/step - loss: 87941.8047 - val_loss: 92855.8672\n",
      "Epoch 19/40\n",
      "485/485 [==============================] - 3s 6ms/step - loss: 86549.3203 - val_loss: 92939.0859\n",
      "Epoch 20/40\n",
      "485/485 [==============================] - 3s 5ms/step - loss: 85249.6250 - val_loss: 91727.5312\n",
      "Epoch 21/40\n",
      "485/485 [==============================] - 3s 6ms/step - loss: 83793.6953 - val_loss: 93109.1406\n",
      "Epoch 22/40\n",
      "485/485 [==============================] - 3s 6ms/step - loss: 82679.2500 - val_loss: 89707.5469\n",
      "Epoch 23/40\n",
      "485/485 [==============================] - 3s 6ms/step - loss: 81223.9609 - val_loss: 87067.4922\n",
      "Epoch 24/40\n",
      "485/485 [==============================] - 3s 7ms/step - loss: 79836.3984 - val_loss: 85261.1094\n",
      "Epoch 25/40\n",
      "485/485 [==============================] - 4s 7ms/step - loss: 78565.8906 - val_loss: 84819.4609\n",
      "Epoch 26/40\n",
      "485/485 [==============================] - 3s 6ms/step - loss: 77112.6953 - val_loss: 86774.4922\n",
      "Epoch 27/40\n",
      "485/485 [==============================] - 3s 6ms/step - loss: 75770.9531 - val_loss: 83039.6328\n",
      "Epoch 28/40\n",
      "485/485 [==============================] - 3s 6ms/step - loss: 74519.6797 - val_loss: 81296.6172\n",
      "Epoch 29/40\n",
      "485/485 [==============================] - 3s 6ms/step - loss: 72945.3906 - val_loss: 79702.1719\n",
      "Epoch 30/40\n",
      "485/485 [==============================] - 3s 6ms/step - loss: 71656.0547 - val_loss: 79548.2422\n",
      "Epoch 31/40\n",
      "485/485 [==============================] - 2s 5ms/step - loss: 70308.5156 - val_loss: 77189.2344\n",
      "Epoch 32/40\n",
      "485/485 [==============================] - 3s 6ms/step - loss: 68722.8750 - val_loss: 82899.5078\n",
      "Epoch 33/40\n",
      "485/485 [==============================] - 3s 7ms/step - loss: 67699.0234 - val_loss: 76647.7031\n",
      "Epoch 34/40\n",
      "485/485 [==============================] - 3s 7ms/step - loss: 66261.3750 - val_loss: 75100.6719\n",
      "Epoch 35/40\n",
      "485/485 [==============================] - 3s 7ms/step - loss: 64804.1797 - val_loss: 72769.0625\n",
      "Epoch 36/40\n",
      "485/485 [==============================] - 3s 7ms/step - loss: 63547.7734 - val_loss: 71527.0000\n",
      "Epoch 37/40\n",
      "485/485 [==============================] - 3s 6ms/step - loss: 62309.3867 - val_loss: 70816.7344\n",
      "Epoch 38/40\n",
      "485/485 [==============================] - 3s 6ms/step - loss: 61074.1523 - val_loss: 72028.9062\n",
      "Epoch 39/40\n",
      "485/485 [==============================] - 3s 6ms/step - loss: 59880.7539 - val_loss: 73392.6406\n",
      "Epoch 40/40\n",
      "485/485 [==============================] - 3s 7ms/step - loss: 58562.9062 - val_loss: 76136.4531\n"
     ]
    },
    {
     "data": {
      "image/png": "[encoded data removed]",
      "text/plain": [
       "<Figure size 640x480 with 1 Axes>"
      ]
     },
     "metadata": {},
     "output_type": "display_data"
    }
   ],
   "source": [
    "midgame_model= generate_model(midgame_df)"
   ]
  },
  {
   "cell_type": "code",
   "execution_count": 25,
   "metadata": {},
   "outputs": [
    {
     "name": "stdout",
     "output_type": "stream",
     "text": [
      "Epoch 1/40\n",
      "505/505 [==============================] - 4s 7ms/step - loss: 120892.4062 - val_loss: 103758.9297\n",
      "Epoch 2/40\n",
      "505/505 [==============================] - 3s 7ms/step - loss: 109169.8438 - val_loss: 93622.9609\n",
      "Epoch 3/40\n",
      "505/505 [==============================] - 3s 7ms/step - loss: 99927.7344 - val_loss: 85717.5391\n",
      "Epoch 4/40\n",
      "505/505 [==============================] - 3s 6ms/step - loss: 91988.6875 - val_loss: 79812.5625\n",
      "Epoch 5/40\n",
      "505/505 [==============================] - 3s 6ms/step - loss: 85644.0781 - val_loss: 75152.9922\n",
      "Epoch 6/40\n",
      "505/505 [==============================] - 3s 5ms/step - loss: 80455.7109 - val_loss: 71870.2422\n",
      "Epoch 7/40\n",
      "505/505 [==============================] - 3s 6ms/step - loss: 76367.2109 - val_loss: 68712.6406\n",
      "Epoch 8/40\n",
      "505/505 [==============================] - 3s 6ms/step - loss: 73411.1406 - val_loss: 70016.1562\n",
      "Epoch 9/40\n",
      "505/505 [==============================] - 3s 5ms/step - loss: 70924.7109 - val_loss: 65434.9219\n",
      "Epoch 10/40\n",
      "505/505 [==============================] - 3s 5ms/step - loss: 69055.4062 - val_loss: 64453.6367\n",
      "Epoch 11/40\n",
      "505/505 [==============================] - 3s 5ms/step - loss: 67531.3359 - val_loss: 63266.6602\n",
      "Epoch 12/40\n",
      "505/505 [==============================] - 3s 5ms/step - loss: 66157.6172 - val_loss: 66302.4688\n",
      "Epoch 13/40\n",
      "505/505 [==============================] - 3s 5ms/step - loss: 64973.3516 - val_loss: 62733.0469\n",
      "Epoch 14/40\n",
      "505/505 [==============================] - 3s 5ms/step - loss: 64034.4766 - val_loss: 61066.0078\n",
      "Epoch 15/40\n",
      "505/505 [==============================] - 3s 5ms/step - loss: 62614.8242 - val_loss: 60623.5273\n",
      "Epoch 16/40\n",
      "505/505 [==============================] - 3s 5ms/step - loss: 61921.9531 - val_loss: 59052.9375\n",
      "Epoch 17/40\n",
      "505/505 [==============================] - 3s 5ms/step - loss: 61020.1406 - val_loss: 58806.2227\n",
      "Epoch 18/40\n",
      "505/505 [==============================] - 3s 5ms/step - loss: 60037.7852 - val_loss: 59102.4922\n",
      "Epoch 19/40\n",
      "505/505 [==============================] - 3s 5ms/step - loss: 59128.4062 - val_loss: 57032.7109\n",
      "Epoch 20/40\n",
      "505/505 [==============================] - 3s 5ms/step - loss: 58160.7500 - val_loss: 55917.2266\n",
      "Epoch 21/40\n",
      "505/505 [==============================] - 3s 7ms/step - loss: 57079.6797 - val_loss: 55545.1484\n",
      "Epoch 22/40\n",
      "505/505 [==============================] - 3s 6ms/step - loss: 56222.2695 - val_loss: 56672.8320\n",
      "Epoch 23/40\n",
      "505/505 [==============================] - 4s 7ms/step - loss: 55185.3086 - val_loss: 54233.3359\n",
      "Epoch 24/40\n",
      "505/505 [==============================] - 4s 8ms/step - loss: 54385.0195 - val_loss: 53608.4766\n",
      "Epoch 25/40\n",
      "505/505 [==============================] - 4s 8ms/step - loss: 53355.9805 - val_loss: 53260.8867\n",
      "Epoch 26/40\n",
      "505/505 [==============================] - 4s 9ms/step - loss: 52373.1133 - val_loss: 51745.3594\n",
      "Epoch 27/40\n",
      "505/505 [==============================] - 4s 8ms/step - loss: 51285.2734 - val_loss: 50462.3672\n",
      "Epoch 28/40\n",
      "505/505 [==============================] - 3s 6ms/step - loss: 50340.7656 - val_loss: 49606.6758\n",
      "Epoch 29/40\n",
      "505/505 [==============================] - 3s 6ms/step - loss: 49200.6484 - val_loss: 48651.1953\n",
      "Epoch 30/40\n",
      "505/505 [==============================] - 3s 6ms/step - loss: 48062.0898 - val_loss: 48326.6797\n",
      "Epoch 31/40\n",
      "505/505 [==============================] - 3s 6ms/step - loss: 46872.0430 - val_loss: 47796.6836\n",
      "Epoch 32/40\n",
      "505/505 [==============================] - 3s 6ms/step - loss: 45910.9922 - val_loss: 46880.3359\n",
      "Epoch 33/40\n",
      "505/505 [==============================] - 3s 6ms/step - loss: 44930.4297 - val_loss: 46962.5430\n",
      "Epoch 34/40\n",
      "505/505 [==============================] - 3s 6ms/step - loss: 43858.0273 - val_loss: 44775.4258\n",
      "Epoch 35/40\n",
      "505/505 [==============================] - 3s 6ms/step - loss: 42884.5898 - val_loss: 43835.4609\n",
      "Epoch 36/40\n",
      "505/505 [==============================] - 3s 6ms/step - loss: 41818.0039 - val_loss: 42958.3008\n",
      "Epoch 37/40\n",
      "505/505 [==============================] - 3s 6ms/step - loss: 40792.1250 - val_loss: 43770.2773\n",
      "Epoch 38/40\n",
      "505/505 [==============================] - 3s 6ms/step - loss: 39834.2109 - val_loss: 41097.4062\n",
      "Epoch 39/40\n",
      "505/505 [==============================] - 3s 6ms/step - loss: 38681.1445 - val_loss: 40965.2969\n",
      "Epoch 40/40\n",
      "505/505 [==============================] - 3s 6ms/step - loss: 37775.2383 - val_loss: 40065.7266\n"
     ]
    },
    {
     "data": {
      "image/png": "[encoded data removed]",
      "text/plain": [
       "<Figure size 640x480 with 1 Axes>"
      ]
     },
     "metadata": {},
     "output_type": "display_data"
    }
   ],
   "source": [
    "opengame_model = generate_model(opening_df)"
   ]
  },
  {
   "cell_type": "code",
   "execution_count": 27,
   "metadata": {},
   "outputs": [],
   "source": [
    "\n",
    "def play_nn(fen, show_move_evaluations=False):\n",
    "    board = chess.Board(fen=fen)\n",
    "\n",
    "    material = count_material(fen)\n",
    "    if material < 30:\n",
    "        model = endgame_model\n",
    "    elif material < 60:\n",
    "        model = midgame_model\n",
    "    else:\n",
    "        model = opengame_model\n",
    "    # And then evaluate all legal moves\n",
    "    moves = []\n",
    "    input_vectors = []\n",
    "    for move in board.legal_moves:\n",
    "        candidate_board = board.copy()\n",
    "        candidate_board.push(move)\n",
    "        moves.append(move)\n",
    "        input_vectors.append(encode_board(str(candidate_board)).astype(np.int32).flatten())\n",
    "    \n",
    "    input_vectors = np.stack(input_vectors)\n",
    "    scores = model.predict(input_vectors, verbose=0)\n",
    "    # argmax gives us the index of the highest scoring move\n",
    "    if board.turn == chess.BLACK:\n",
    "        index_of_best_move = np.argmax(scores)\n",
    "    else:\n",
    "       index_of_best_move = np.argmax(-scores)\n",
    "\n",
    "    if show_move_evaluations:\n",
    "        print(zip(moves, scores))\n",
    "        \n",
    "    best_move = moves[index_of_best_move]\n",
    "\n",
    "    return str(best_move)"
   ]
  },
  {
   "cell_type": "code",
   "execution_count": 28,
   "metadata": {},
   "outputs": [],
   "source": [
    "from IPython.display import SVG, display\n",
    "\n",
    "def play_game(ai_function):\n",
    "    board = chess.Board()\n",
    "\n",
    "    while board.outcome() is None:\n",
    "        # We print out the board as an SVG\n",
    "        display(SVG(board._repr_svg_()))\n",
    "\n",
    "        # If it's white's turn, we have the user play\n",
    "        if board.turn == chess.WHITE:\n",
    "            user_move = input('Your move: ')\n",
    "            if user_move == 'quit':\n",
    "                break\n",
    "            while user_move not in [str(move) for move in board.legal_moves]:\n",
    "                print('That wasn\\'t a valid move. Please enter a move in Standard Algebraic Notation')\n",
    "                user_move = input('Your move: ')\n",
    "            board.push_san(user_move)\n",
    "\n",
    "        # If it's black's turn, we have the AI play\n",
    "        elif board.turn == chess.BLACK:\n",
    "            ai_move = ai_function(board.fen())\n",
    "            print(f'AI move: {ai_move}')\n",
    "            board.push_san(ai_move)\n",
    "    print(board.outcome())"
   ]
  },
  {
   "cell_type": "code",
   "execution_count": 32,
   "metadata": {},
   "outputs": [
    {
     "name": "stdout",
     "output_type": "stream",
     "text": [
      "INFO:tensorflow:Unsupported signature for serialization: ((TensorSpec(shape=(832, 512), dtype=tf.float32, name='gradient'), <tensorflow.python.framework.func_graph.UnknownArgument object at 0x7f8effec9a30>, 140252294791296), {}).\n",
      "INFO:tensorflow:Unsupported signature for serialization: ((TensorSpec(shape=(512,), dtype=tf.float32, name='gradient'), <tensorflow.python.framework.func_graph.UnknownArgument object at 0x7f8f083ba040>, 140252294793216), {}).\n",
      "INFO:tensorflow:Unsupported signature for serialization: ((TensorSpec(shape=(512, 128), dtype=tf.float32, name='gradient'), <tensorflow.python.framework.func_graph.UnknownArgument object at 0x7f8fbc49f580>, 140255315881856), {}).\n",
      "INFO:tensorflow:Unsupported signature for serialization: ((TensorSpec(shape=(128,), dtype=tf.float32, name='gradient'), <tensorflow.python.framework.func_graph.UnknownArgument object at 0x7f8fbc493f70>, 140255315533136), {}).\n",
      "INFO:tensorflow:Unsupported signature for serialization: ((TensorSpec(shape=(128, 1), dtype=tf.float32, name='gradient'), <tensorflow.python.framework.func_graph.UnknownArgument object at 0x7f8fbc482d90>, 140255315346896), {}).\n",
      "INFO:tensorflow:Unsupported signature for serialization: ((TensorSpec(shape=(1,), dtype=tf.float32, name='gradient'), <tensorflow.python.framework.func_graph.UnknownArgument object at 0x7f8fbc3f0ee0>, 140255315346656), {}).\n"
     ]
    },
    {
     "name": "stderr",
     "output_type": "stream",
     "text": [
      "2023-05-14 11:32:01.187154: I tensorflow/core/common_runtime/executor.cc:1197] [/device:CPU:0] (DEBUG INFO) Executor start aborting (this does not indicate an error and you can ignore this message): INVALID_ARGUMENT: You must feed a value for placeholder tensor 'inputs' with dtype float and shape [?,512]\n",
      "\t [[{{node inputs}}]]\n",
      "2023-05-14 11:32:01.199546: I tensorflow/core/common_runtime/executor.cc:1197] [/device:CPU:0] (DEBUG INFO) Executor start aborting (this does not indicate an error and you can ignore this message): INVALID_ARGUMENT: You must feed a value for placeholder tensor 'inputs' with dtype float and shape [?,128]\n",
      "\t [[{{node inputs}}]]\n",
      "2023-05-14 11:32:01.371018: I tensorflow/core/common_runtime/executor.cc:1197] [/device:CPU:0] (DEBUG INFO) Executor start aborting (this does not indicate an error and you can ignore this message): INVALID_ARGUMENT: You must feed a value for placeholder tensor 'inputs' with dtype float and shape [?,512]\n",
      "\t [[{{node inputs}}]]\n"
     ]
    },
    {
     "name": "stdout",
     "output_type": "stream",
     "text": [
      "INFO:tensorflow:Unsupported signature for serialization: ((TensorSpec(shape=(832, 512), dtype=tf.float32, name='gradient'), <tensorflow.python.framework.func_graph.UnknownArgument object at 0x7f8effec9a30>, 140252294791296), {}).\n",
      "INFO:tensorflow:Unsupported signature for serialization: ((TensorSpec(shape=(512,), dtype=tf.float32, name='gradient'), <tensorflow.python.framework.func_graph.UnknownArgument object at 0x7f8f083ba040>, 140252294793216), {}).\n",
      "INFO:tensorflow:Unsupported signature for serialization: ((TensorSpec(shape=(512, 128), dtype=tf.float32, name='gradient'), <tensorflow.python.framework.func_graph.UnknownArgument object at 0x7f8fbc49f580>, 140255315881856), {}).\n",
      "INFO:tensorflow:Unsupported signature for serialization: ((TensorSpec(shape=(128,), dtype=tf.float32, name='gradient'), <tensorflow.python.framework.func_graph.UnknownArgument object at 0x7f8fbc493f70>, 140255315533136), {}).\n",
      "INFO:tensorflow:Unsupported signature for serialization: ((TensorSpec(shape=(128, 1), dtype=tf.float32, name='gradient'), <tensorflow.python.framework.func_graph.UnknownArgument object at 0x7f8fbc482d90>, 140255315346896), {}).\n",
      "INFO:tensorflow:Unsupported signature for serialization: ((TensorSpec(shape=(1,), dtype=tf.float32, name='gradient'), <tensorflow.python.framework.func_graph.UnknownArgument object at 0x7f8fbc3f0ee0>, 140255315346656), {}).\n"
     ]
    },
    {
     "name": "stderr",
     "output_type": "stream",
     "text": [
      "2023-05-14 11:32:01.404943: I tensorflow/core/common_runtime/executor.cc:1197] [/device:CPU:0] (DEBUG INFO) Executor start aborting (this does not indicate an error and you can ignore this message): INVALID_ARGUMENT: You must feed a value for placeholder tensor 'inputs' with dtype float and shape [?,128]\n",
      "\t [[{{node inputs}}]]\n",
      "WARNING:absl:Found untraced functions such as _update_step_xla while saving (showing 1 of 1). These functions will not be directly callable after loading.\n"
     ]
    },
    {
     "name": "stdout",
     "output_type": "stream",
     "text": [
      "INFO:tensorflow:Assets written to: ensemble/endgame_model/assets\n"
     ]
    },
    {
     "name": "stderr",
     "output_type": "stream",
     "text": [
      "INFO:tensorflow:Assets written to: ensemble/endgame_model/assets\n"
     ]
    }
   ],
   "source": [
    "endgame_model.save(\"ensemble/endgame_model\")"
   ]
  },
  {
   "cell_type": "code",
   "execution_count": 33,
   "metadata": {},
   "outputs": [
    {
     "name": "stdout",
     "output_type": "stream",
     "text": [
      "INFO:tensorflow:Unsupported signature for serialization: ((TensorSpec(shape=(832, 512), dtype=tf.float32, name='gradient'), <tensorflow.python.framework.func_graph.UnknownArgument object at 0x7f8ef4471f10>, 140251957284016), {}).\n"
     ]
    },
    {
     "name": "stderr",
     "output_type": "stream",
     "text": [
      "INFO:tensorflow:Unsupported signature for serialization: ((TensorSpec(shape=(832, 512), dtype=tf.float32, name='gradient'), <tensorflow.python.framework.func_graph.UnknownArgument object at 0x7f8ef4471f10>, 140251957284016), {}).\n"
     ]
    },
    {
     "name": "stdout",
     "output_type": "stream",
     "text": [
      "INFO:tensorflow:Unsupported signature for serialization: ((TensorSpec(shape=(512,), dtype=tf.float32, name='gradient'), <tensorflow.python.framework.func_graph.UnknownArgument object at 0x7f8ef4484760>, 140251957283776), {}).\n"
     ]
    },
    {
     "name": "stderr",
     "output_type": "stream",
     "text": [
      "INFO:tensorflow:Unsupported signature for serialization: ((TensorSpec(shape=(512,), dtype=tf.float32, name='gradient'), <tensorflow.python.framework.func_graph.UnknownArgument object at 0x7f8ef4484760>, 140251957283776), {}).\n"
     ]
    },
    {
     "name": "stdout",
     "output_type": "stream",
     "text": [
      "INFO:tensorflow:Unsupported signature for serialization: ((TensorSpec(shape=(512, 1), dtype=tf.float32, name='gradient'), <tensorflow.python.framework.func_graph.UnknownArgument object at 0x7f8ef4487b50>, 140251957283616), {}).\n"
     ]
    },
    {
     "name": "stderr",
     "output_type": "stream",
     "text": [
      "INFO:tensorflow:Unsupported signature for serialization: ((TensorSpec(shape=(512, 1), dtype=tf.float32, name='gradient'), <tensorflow.python.framework.func_graph.UnknownArgument object at 0x7f8ef4487b50>, 140251957283616), {}).\n"
     ]
    },
    {
     "name": "stdout",
     "output_type": "stream",
     "text": [
      "INFO:tensorflow:Unsupported signature for serialization: ((TensorSpec(shape=(1,), dtype=tf.float32, name='gradient'), <tensorflow.python.framework.func_graph.UnknownArgument object at 0x7f8ef44136a0>, 140251957284176), {}).\n"
     ]
    },
    {
     "name": "stderr",
     "output_type": "stream",
     "text": [
      "INFO:tensorflow:Unsupported signature for serialization: ((TensorSpec(shape=(1,), dtype=tf.float32, name='gradient'), <tensorflow.python.framework.func_graph.UnknownArgument object at 0x7f8ef44136a0>, 140251957284176), {}).\n"
     ]
    },
    {
     "name": "stdout",
     "output_type": "stream",
     "text": [
      "INFO:tensorflow:Unsupported signature for serialization: ((TensorSpec(shape=(832, 512), dtype=tf.float32, name='gradient'), <tensorflow.python.framework.func_graph.UnknownArgument object at 0x7f8ef4471f10>, 140251957284016), {}).\n"
     ]
    },
    {
     "name": "stderr",
     "output_type": "stream",
     "text": [
      "INFO:tensorflow:Unsupported signature for serialization: ((TensorSpec(shape=(832, 512), dtype=tf.float32, name='gradient'), <tensorflow.python.framework.func_graph.UnknownArgument object at 0x7f8ef4471f10>, 140251957284016), {}).\n"
     ]
    },
    {
     "name": "stdout",
     "output_type": "stream",
     "text": [
      "INFO:tensorflow:Unsupported signature for serialization: ((TensorSpec(shape=(512,), dtype=tf.float32, name='gradient'), <tensorflow.python.framework.func_graph.UnknownArgument object at 0x7f8ef4484760>, 140251957283776), {}).\n"
     ]
    },
    {
     "name": "stderr",
     "output_type": "stream",
     "text": [
      "INFO:tensorflow:Unsupported signature for serialization: ((TensorSpec(shape=(512,), dtype=tf.float32, name='gradient'), <tensorflow.python.framework.func_graph.UnknownArgument object at 0x7f8ef4484760>, 140251957283776), {}).\n"
     ]
    },
    {
     "name": "stdout",
     "output_type": "stream",
     "text": [
      "INFO:tensorflow:Unsupported signature for serialization: ((TensorSpec(shape=(512, 1), dtype=tf.float32, name='gradient'), <tensorflow.python.framework.func_graph.UnknownArgument object at 0x7f8ef4487b50>, 140251957283616), {}).\n"
     ]
    },
    {
     "name": "stderr",
     "output_type": "stream",
     "text": [
      "INFO:tensorflow:Unsupported signature for serialization: ((TensorSpec(shape=(512, 1), dtype=tf.float32, name='gradient'), <tensorflow.python.framework.func_graph.UnknownArgument object at 0x7f8ef4487b50>, 140251957283616), {}).\n"
     ]
    },
    {
     "name": "stdout",
     "output_type": "stream",
     "text": [
      "INFO:tensorflow:Unsupported signature for serialization: ((TensorSpec(shape=(1,), dtype=tf.float32, name='gradient'), <tensorflow.python.framework.func_graph.UnknownArgument object at 0x7f8ef44136a0>, 140251957284176), {}).\n"
     ]
    },
    {
     "name": "stderr",
     "output_type": "stream",
     "text": [
      "INFO:tensorflow:Unsupported signature for serialization: ((TensorSpec(shape=(1,), dtype=tf.float32, name='gradient'), <tensorflow.python.framework.func_graph.UnknownArgument object at 0x7f8ef44136a0>, 140251957284176), {}).\n",
      "WARNING:absl:Found untraced functions such as _update_step_xla while saving (showing 1 of 1). These functions will not be directly callable after loading.\n"
     ]
    },
    {
     "name": "stdout",
     "output_type": "stream",
     "text": [
      "INFO:tensorflow:Assets written to: ensemble/midgame_model/assets\n"
     ]
    },
    {
     "name": "stderr",
     "output_type": "stream",
     "text": [
      "INFO:tensorflow:Assets written to: ensemble/midgame_model/assets\n"
     ]
    }
   ],
   "source": [
    "midgame_model.save(\"ensemble/midgame_model\")"
   ]
  },
  {
   "cell_type": "code",
   "execution_count": 34,
   "metadata": {},
   "outputs": [
    {
     "name": "stdout",
     "output_type": "stream",
     "text": [
      "INFO:tensorflow:Unsupported signature for serialization: ((TensorSpec(shape=(832, 512), dtype=tf.float32, name='gradient'), <tensorflow.python.framework.func_graph.UnknownArgument object at 0x7f8efaaf0b80>, 140252828895872), {}).\n"
     ]
    },
    {
     "name": "stderr",
     "output_type": "stream",
     "text": [
      "INFO:tensorflow:Unsupported signature for serialization: ((TensorSpec(shape=(832, 512), dtype=tf.float32, name='gradient'), <tensorflow.python.framework.func_graph.UnknownArgument object at 0x7f8efaaf0b80>, 140252828895872), {}).\n"
     ]
    },
    {
     "name": "stdout",
     "output_type": "stream",
     "text": [
      "INFO:tensorflow:Unsupported signature for serialization: ((TensorSpec(shape=(512,), dtype=tf.float32, name='gradient'), <tensorflow.python.framework.func_graph.UnknownArgument object at 0x7f8efab90c40>, 140252828893792), {}).\n"
     ]
    },
    {
     "name": "stderr",
     "output_type": "stream",
     "text": [
      "INFO:tensorflow:Unsupported signature for serialization: ((TensorSpec(shape=(512,), dtype=tf.float32, name='gradient'), <tensorflow.python.framework.func_graph.UnknownArgument object at 0x7f8efab90c40>, 140252828893792), {}).\n"
     ]
    },
    {
     "name": "stdout",
     "output_type": "stream",
     "text": [
      "INFO:tensorflow:Unsupported signature for serialization: ((TensorSpec(shape=(512, 1), dtype=tf.float32, name='gradient'), <tensorflow.python.framework.func_graph.UnknownArgument object at 0x7f8efaba1a00>, 140252828896672), {}).\n"
     ]
    },
    {
     "name": "stderr",
     "output_type": "stream",
     "text": [
      "INFO:tensorflow:Unsupported signature for serialization: ((TensorSpec(shape=(512, 1), dtype=tf.float32, name='gradient'), <tensorflow.python.framework.func_graph.UnknownArgument object at 0x7f8efaba1a00>, 140252828896672), {}).\n"
     ]
    },
    {
     "name": "stdout",
     "output_type": "stream",
     "text": [
      "INFO:tensorflow:Unsupported signature for serialization: ((TensorSpec(shape=(1,), dtype=tf.float32, name='gradient'), <tensorflow.python.framework.func_graph.UnknownArgument object at 0x7f8efabafa90>, 140252828894032), {}).\n"
     ]
    },
    {
     "name": "stderr",
     "output_type": "stream",
     "text": [
      "INFO:tensorflow:Unsupported signature for serialization: ((TensorSpec(shape=(1,), dtype=tf.float32, name='gradient'), <tensorflow.python.framework.func_graph.UnknownArgument object at 0x7f8efabafa90>, 140252828894032), {}).\n"
     ]
    },
    {
     "name": "stdout",
     "output_type": "stream",
     "text": [
      "INFO:tensorflow:Unsupported signature for serialization: ((TensorSpec(shape=(832, 512), dtype=tf.float32, name='gradient'), <tensorflow.python.framework.func_graph.UnknownArgument object at 0x7f8efaaf0b80>, 140252828895872), {}).\n"
     ]
    },
    {
     "name": "stderr",
     "output_type": "stream",
     "text": [
      "INFO:tensorflow:Unsupported signature for serialization: ((TensorSpec(shape=(832, 512), dtype=tf.float32, name='gradient'), <tensorflow.python.framework.func_graph.UnknownArgument object at 0x7f8efaaf0b80>, 140252828895872), {}).\n"
     ]
    },
    {
     "name": "stdout",
     "output_type": "stream",
     "text": [
      "INFO:tensorflow:Unsupported signature for serialization: ((TensorSpec(shape=(512,), dtype=tf.float32, name='gradient'), <tensorflow.python.framework.func_graph.UnknownArgument object at 0x7f8efab90c40>, 140252828893792), {}).\n"
     ]
    },
    {
     "name": "stderr",
     "output_type": "stream",
     "text": [
      "INFO:tensorflow:Unsupported signature for serialization: ((TensorSpec(shape=(512,), dtype=tf.float32, name='gradient'), <tensorflow.python.framework.func_graph.UnknownArgument object at 0x7f8efab90c40>, 140252828893792), {}).\n"
     ]
    },
    {
     "name": "stdout",
     "output_type": "stream",
     "text": [
      "INFO:tensorflow:Unsupported signature for serialization: ((TensorSpec(shape=(512, 1), dtype=tf.float32, name='gradient'), <tensorflow.python.framework.func_graph.UnknownArgument object at 0x7f8efaba1a00>, 140252828896672), {}).\n"
     ]
    },
    {
     "name": "stderr",
     "output_type": "stream",
     "text": [
      "INFO:tensorflow:Unsupported signature for serialization: ((TensorSpec(shape=(512, 1), dtype=tf.float32, name='gradient'), <tensorflow.python.framework.func_graph.UnknownArgument object at 0x7f8efaba1a00>, 140252828896672), {}).\n"
     ]
    },
    {
     "name": "stdout",
     "output_type": "stream",
     "text": [
      "INFO:tensorflow:Unsupported signature for serialization: ((TensorSpec(shape=(1,), dtype=tf.float32, name='gradient'), <tensorflow.python.framework.func_graph.UnknownArgument object at 0x7f8efabafa90>, 140252828894032), {}).\n"
     ]
    },
    {
     "name": "stderr",
     "output_type": "stream",
     "text": [
      "INFO:tensorflow:Unsupported signature for serialization: ((TensorSpec(shape=(1,), dtype=tf.float32, name='gradient'), <tensorflow.python.framework.func_graph.UnknownArgument object at 0x7f8efabafa90>, 140252828894032), {}).\n",
      "WARNING:absl:Found untraced functions such as _update_step_xla while saving (showing 1 of 1). These functions will not be directly callable after loading.\n"
     ]
    },
    {
     "name": "stdout",
     "output_type": "stream",
     "text": [
      "INFO:tensorflow:Assets written to: ensemble/opengame_model/assets\n"
     ]
    },
    {
     "name": "stderr",
     "output_type": "stream",
     "text": [
      "INFO:tensorflow:Assets written to: ensemble/opengame_model/assets\n"
     ]
    }
   ],
   "source": [
    "opengame_model.save(\"ensemble/opengame_model\")"
   ]
  },
  {
   "cell_type": "code",
   "execution_count": null,
   "metadata": {},
   "outputs": [],
   "source": []
  }
 ],
 "metadata": {
  "kernelspec": {
   "display_name": "tf",
   "language": "python",
   "name": "python3"
  },
  "language_info": {
   "codemirror_mode": {
    "name": "ipython",
    "version": 3
   },
   "file_extension": ".py",
   "mimetype": "text/x-python",
   "name": "python",
   "nbconvert_exporter": "python",
   "pygments_lexer": "ipython3",
   "version": "3.9.16"
  },
  "orig_nbformat": 4
 },
 "nbformat": 4,
 "nbformat_minor": 2
}
